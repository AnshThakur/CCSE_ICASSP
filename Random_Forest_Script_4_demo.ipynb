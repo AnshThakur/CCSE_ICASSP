{
 "cells": [
  {
   "cell_type": "code",
   "execution_count": 4,
   "metadata": {},
   "outputs": [
    {
     "name": "stdout",
     "output_type": "stream",
     "text": [
      "(21473, 1)\n",
      "(21473, 3328)\n"
     ]
    }
   ],
   "source": [
    "## script to classify CCSE obtained from demo.m //example \n",
    "import scipy.io \n",
    "from sklearn import preprocessing\n",
    "from scipy import stats\n",
    "import h5py\n",
    "import numpy as np\n",
    "import pickle\n",
    "train = scipy.io.loadmat('train_features_128Dict.mat')\n",
    "\n",
    "T=train['CCSE']\n",
    "L=train['labels']\n",
    "print(L.shape)\n",
    "print(T.shape)\n"
   ]
  },
  {
   "cell_type": "code",
   "execution_count": 3,
   "metadata": {},
   "outputs": [
    {
     "name": "stderr",
     "output_type": "stream",
     "text": [
      "/root/anaconda2/lib/python2.7/site-packages/ipykernel_launcher.py:3: DataConversionWarning: A column-vector y was passed when a 1d array was expected. Please change the shape of y to (n_samples,), for example using ravel().\n",
      "  This is separate from the ipykernel package so we can avoid doing imports until\n"
     ]
    },
    {
     "data": {
      "text/plain": [
       "RandomForestClassifier(bootstrap=True, class_weight=None, criterion='gini',\n",
       "            max_depth=None, max_features='auto', max_leaf_nodes=None,\n",
       "            min_impurity_decrease=0.0, min_impurity_split=None,\n",
       "            min_samples_leaf=1, min_samples_split=2,\n",
       "            min_weight_fraction_leaf=0.0, n_estimators=500, n_jobs=1,\n",
       "            oob_score=False, random_state=0, verbose=0, warm_start=False)"
      ]
     },
     "execution_count": 3,
     "metadata": {},
     "output_type": "execute_result"
    }
   ],
   "source": [
    "from sklearn.ensemble import RandomForestClassifier\n",
    "clf = RandomForestClassifier(n_estimators=500,random_state=0)\n",
    "clf.fit(T,L)\n"
   ]
  },
  {
   "cell_type": "code",
   "execution_count": 26,
   "metadata": {
    "collapsed": true
   },
   "outputs": [],
   "source": [
    "# storing trained object \n",
    "with open('rand_forest.pkl', 'wb') as output:\n",
    "    pickle.dump(clf, output, pickle.HIGHEST_PROTOCOL)"
   ]
  },
  {
   "cell_type": "code",
   "execution_count": 28,
   "metadata": {},
   "outputs": [],
   "source": [
    "#load the stored model\n",
    "#with open('/home/d14003/simplex_projections/species_id_unsup/CCSE_ICASSP/rand_forest.pkl', 'rb') as input:\n",
    " #   clf= pickle.load(input)"
   ]
  },
  {
   "cell_type": "code",
   "execution_count": 29,
   "metadata": {},
   "outputs": [
    {
     "name": "stdout",
     "output_type": "stream",
     "text": [
      "(52, 3328)\n",
      "25\n"
     ]
    }
   ],
   "source": [
    "#load the ccse obtained from demo.m\n",
    "test = scipy.io.loadmat('temp_ccse_25.mat')\n",
    "test=test['ccse']\n",
    "print(test.shape)\n",
    "p1=clf.predict(test)\n",
    "p1=p1.astype(int)\n",
    "p=np.bincount(p1)\n",
    "p=np.argmax(p)\n",
    "print(p)"
   ]
  },
  {
   "cell_type": "code",
   "execution_count": null,
   "metadata": {
    "collapsed": true
   },
   "outputs": [],
   "source": []
  }
 ],
 "metadata": {
  "kernelspec": {
   "display_name": "Python 2",
   "language": "python",
   "name": "python2"
  },
  "language_info": {
   "codemirror_mode": {
    "name": "ipython",
    "version": 2
   },
   "file_extension": ".py",
   "mimetype": "text/x-python",
   "name": "python",
   "nbconvert_exporter": "python",
   "pygments_lexer": "ipython2",
   "version": "2.7.13"
  }
 },
 "nbformat": 4,
 "nbformat_minor": 2
}
